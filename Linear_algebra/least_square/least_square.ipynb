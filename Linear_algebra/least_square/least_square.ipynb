{
 "cells": [
  {
   "cell_type": "code",
   "execution_count": 18,
   "id": "5bccde59",
   "metadata": {},
   "outputs": [],
   "source": [
    "import numpy as np\n",
    "import matplotlib.pyplot as plt\n",
    "import pandas as pd"
   ]
  },
  {
   "cell_type": "markdown",
   "id": "aaf2b530",
   "metadata": {},
   "source": [
    "Imported required libraries to bulid least sqaure from scratch\n",
    "and load the dataset"
   ]
  },
  {
   "cell_type": "code",
   "execution_count": 19,
   "id": "99c95a28",
   "metadata": {},
   "outputs": [
    {
     "data": {
      "application/vnd.microsoft.datawrangler.viewer.v0+json": {
       "columns": [
        {
         "name": "index",
         "rawType": "int64",
         "type": "integer"
        },
        {
         "name": "x1",
         "rawType": "int64",
         "type": "integer"
        },
        {
         "name": "x2",
         "rawType": "int64",
         "type": "integer"
        },
        {
         "name": "x3",
         "rawType": "int64",
         "type": "integer"
        },
        {
         "name": "b",
         "rawType": "int64",
         "type": "integer"
        },
        {
         "name": "y",
         "rawType": "float64",
         "type": "float"
        }
       ],
       "conversionMethod": "pd.DataFrame",
       "ref": "73a5513e-c41d-4bf1-b8fc-defab5894f09",
       "rows": [
        [
         "0",
         "855",
         "400",
         "140",
         "1",
         "5691.0"
        ],
        [
         "1",
         "883",
         "776",
         "869",
         "1",
         "8052.5"
        ],
        [
         "2",
         "909",
         "190",
         "194",
         "1",
         "5412.0"
        ],
        [
         "3",
         "233",
         "303",
         "322",
         "1",
         "2563.0"
        ],
        [
         "4",
         "55",
         "445",
         "513",
         "1",
         "2385.5"
        ]
       ],
       "shape": {
        "columns": 5,
        "rows": 5
       }
      },
      "text/html": [
       "<div>\n",
       "<style scoped>\n",
       "    .dataframe tbody tr th:only-of-type {\n",
       "        vertical-align: middle;\n",
       "    }\n",
       "\n",
       "    .dataframe tbody tr th {\n",
       "        vertical-align: top;\n",
       "    }\n",
       "\n",
       "    .dataframe thead th {\n",
       "        text-align: right;\n",
       "    }\n",
       "</style>\n",
       "<table border=\"1\" class=\"dataframe\">\n",
       "  <thead>\n",
       "    <tr style=\"text-align: right;\">\n",
       "      <th></th>\n",
       "      <th>x1</th>\n",
       "      <th>x2</th>\n",
       "      <th>x3</th>\n",
       "      <th>b</th>\n",
       "      <th>y</th>\n",
       "    </tr>\n",
       "  </thead>\n",
       "  <tbody>\n",
       "    <tr>\n",
       "      <th>0</th>\n",
       "      <td>855</td>\n",
       "      <td>400</td>\n",
       "      <td>140</td>\n",
       "      <td>1</td>\n",
       "      <td>5691.0</td>\n",
       "    </tr>\n",
       "    <tr>\n",
       "      <th>1</th>\n",
       "      <td>883</td>\n",
       "      <td>776</td>\n",
       "      <td>869</td>\n",
       "      <td>1</td>\n",
       "      <td>8052.5</td>\n",
       "    </tr>\n",
       "    <tr>\n",
       "      <th>2</th>\n",
       "      <td>909</td>\n",
       "      <td>190</td>\n",
       "      <td>194</td>\n",
       "      <td>1</td>\n",
       "      <td>5412.0</td>\n",
       "    </tr>\n",
       "    <tr>\n",
       "      <th>3</th>\n",
       "      <td>233</td>\n",
       "      <td>303</td>\n",
       "      <td>322</td>\n",
       "      <td>1</td>\n",
       "      <td>2563.0</td>\n",
       "    </tr>\n",
       "    <tr>\n",
       "      <th>4</th>\n",
       "      <td>55</td>\n",
       "      <td>445</td>\n",
       "      <td>513</td>\n",
       "      <td>1</td>\n",
       "      <td>2385.5</td>\n",
       "    </tr>\n",
       "  </tbody>\n",
       "</table>\n",
       "</div>"
      ],
      "text/plain": [
       "    x1   x2   x3  b       y\n",
       "0  855  400  140  1  5691.0\n",
       "1  883  776  869  1  8052.5\n",
       "2  909  190  194  1  5412.0\n",
       "3  233  303  322  1  2563.0\n",
       "4   55  445  513  1  2385.5"
      ]
     },
     "execution_count": 19,
     "metadata": {},
     "output_type": "execute_result"
    }
   ],
   "source": [
    "df = pd.read_csv('C:/Users/HP/Documents/codes/Mathematics/Linear_algebra/least_square/dataset.csv')\n",
    "df.head()"
   ]
  },
  {
   "cell_type": "markdown",
   "id": "2351db4c",
   "metadata": {},
   "source": [
    "Extracting the required values"
   ]
  },
  {
   "cell_type": "code",
   "execution_count": 20,
   "id": "3c784122",
   "metadata": {},
   "outputs": [],
   "source": [
    "# Prepare data\n",
    "x1 = df['x1'].values\n",
    "x2 = df['x2'].values\n",
    "x3 = df['x3'].values\n",
    "y = df['y'].values"
   ]
  },
  {
   "cell_type": "markdown",
   "id": "e80efdb2",
   "metadata": {},
   "source": [
    "Create design matrix with all features (including intercept)"
   ]
  },
  {
   "cell_type": "code",
   "execution_count": 21,
   "id": "92ec4364",
   "metadata": {},
   "outputs": [],
   "source": [
    "A = np.column_stack([np.ones_like(x1), x1, x2, x3])\n",
    "d = y.reshape(-1, 1)"
   ]
  },
  {
   "cell_type": "markdown",
   "id": "ce0a1935",
   "metadata": {},
   "source": [
    "Defined function for doing least square from scratch\n",
    "# Execution of matrix multiplication"
   ]
  },
  {
   "cell_type": "code",
   "execution_count": 22,
   "id": "ba1335e9",
   "metadata": {},
   "outputs": [],
   "source": [
    "def find_coefficients(A, d):\n",
    "    n = np.matmul(A.T,A)\n",
    "    m = np.linalg.inv(n)\n",
    "    k = np.matmul(m, np.matmul(A.T, d))\n",
    "    X = k\n",
    "    return X"
   ]
  },
  {
   "cell_type": "markdown",
   "id": "066d7899",
   "metadata": {},
   "source": [
    "Calling the function and printing the coeeficients and intercept"
   ]
  },
  {
   "cell_type": "code",
   "execution_count": 23,
   "id": "06cc792c",
   "metadata": {},
   "outputs": [
    {
     "name": "stdout",
     "output_type": "stream",
     "text": [
      "\n",
      "Coefficients:\n",
      "Intercept (C): 6.0000\n",
      "x1 coefficient (D): 5.0000\n",
      "x2 coefficient: 3.0000\n",
      "x3 coefficient: 1.5000\n"
     ]
    }
   ],
   "source": [
    "# Calculate coefficients\n",
    "X = find_coefficients(A, d)\n",
    "print(\"\\nCoefficients:\")\n",
    "print(f\"Intercept (C): {X[0][0]:.4f}\")\n",
    "print(f\"x1 coefficient (D): {X[1][0]:.4f}\")\n",
    "print(f\"x2 coefficient: {X[2][0]:.4f}\")\n",
    "print(f\"x3 coefficient: {X[3][0]:.4f}\")"
   ]
  },
  {
   "cell_type": "markdown",
   "id": "725cd87e",
   "metadata": {},
   "source": [
    "prediction matrix"
   ]
  },
  {
   "cell_type": "code",
   "execution_count": 24,
   "id": "f8907924",
   "metadata": {},
   "outputs": [],
   "source": [
    "# Predictions\n",
    "y_pred = A @ X\n"
   ]
  },
  {
   "cell_type": "markdown",
   "id": "ea6389f3",
   "metadata": {},
   "source": [
    "plotting of the graph of actual vs predicted values"
   ]
  },
  {
   "cell_type": "code",
   "execution_count": 25,
   "id": "4dc08117",
   "metadata": {},
   "outputs": [
    {
     "data": {
      "image/png": "[encoded data removed]",
      "text/plain": [
       "<Figure size 1000x600 with 1 Axes>"
      ]
     },
     "metadata": {},
     "output_type": "display_data"
    }
   ],
   "source": [
    "# Plotting actual vs predicted\n",
    "fig, ax = plt.subplots(figsize=(10, 6))\n",
    "ax.scatter(y, y_pred, color='blue')\n",
    "ax.plot([min(y), max(y)], [min(y), max(y)], 'r--')  # Perfect prediction line\n",
    "ax.set_xlabel('Actual Values')\n",
    "ax.set_ylabel('Predicted Values')\n",
    "ax.set_title('Actual vs Predicted Values')\n",
    "ax.grid(True)\n",
    "plt.show()"
   ]
  }
 ],
 "metadata": {
  "kernelspec": {
   "display_name": "Python 3",
   "language": "python",
   "name": "python3"
  },
  "language_info": {
   "codemirror_mode": {
    "name": "ipython",
    "version": 3
   },
   "file_extension": ".py",
   "mimetype": "text/x-python",
   "name": "python",
   "nbconvert_exporter": "python",
   "pygments_lexer": "ipython3",
   "version": "3.12.9"
  }
 },
 "nbformat": 4,
 "nbformat_minor": 5
}
